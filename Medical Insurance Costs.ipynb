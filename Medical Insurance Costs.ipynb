{
 "cells": [
  {
   "cell_type": "markdown",
   "id": "86740605-3b8b-4bd6-a79e-119c8a001bdf",
   "metadata": {},
   "source": [
    "# Medical Insurance Costs"
   ]
  },
  {
   "cell_type": "markdown",
   "id": "33457604-1c5d-49a3-b027-07d7cdb04ae1",
   "metadata": {},
   "source": [
    "Medical insurance costs will be investigated in a given **CSV file** by using **Python Fundamentals** in this project. The goal with this project to analyze various attributes for patients in **insurance.csv** file and gain useful insights for potential use cases.\n",
    "\n",
    "To start, all necessary libraries must be imported. The **csv** library will be used for this project, but there are also available other libraries in Python to analyze dataset in a different way. "
   ]
  },
  {
   "cell_type": "code",
   "execution_count": 1,
   "id": "e1695b95-5b53-4e36-b387-48d02ef222ae",
   "metadata": {},
   "outputs": [],
   "source": [
    "# importing CSV library\n",
    "import csv"
   ]
  },
  {
   "cell_type": "markdown",
   "id": "9a61b795-c4a1-4897-ab92-b889261a0435",
   "metadata": {},
   "source": [
    "The next step is to check the given `csv file` in order to plan out how to transfer data into Python file. The following parts below will be more useful for the further processes:\n",
    "\n",
    "- The columns and rows names\n",
    "- Data types of values (numerical vs. categorical)\n",
    "- Missing or unknown data"
   ]
  },
  {
   "cell_type": "code",
   "execution_count": 2,
   "id": "7ae4de55-b3dd-47c7-bf43-058d137a1663",
   "metadata": {},
   "outputs": [],
   "source": [
    "# open csv file using csv library\n",
    "lst = []\n",
    "with open('insurance.csv') as dataset:\n",
    "    reader = csv.reader(dataset)\n",
    "    # loop through the data and append to list\n",
    "    for row in reader:\n",
    "        lst.append(row)"
   ]
  },
  {
   "cell_type": "code",
   "execution_count": 348,
   "id": "8bb4a09c-12bf-43e1-a4a6-1fa29b0504a3",
   "metadata": {
    "scrolled": true,
    "tags": []
   },
   "outputs": [
    {
     "data": {
      "text/plain": [
       "['age', 'sex', 'bmi', 'children', 'smoker', 'region', 'charges']"
      ]
     },
     "execution_count": 348,
     "metadata": {},
     "output_type": "execute_result"
    }
   ],
   "source": [
    "lst[0]"
   ]
  },
  {
   "cell_type": "markdown",
   "id": "a8d7e609-2ef3-4e7a-bc2f-f743d3df8eca",
   "metadata": {},
   "source": [
    "The **insurance.csv** file opened above contains the following columns:\n",
    "* Patient Age as `age`\n",
    "* Patient Sex as `sex`\n",
    "* Patient BMI as `bmi`\n",
    "* Patient Number of Children as `children`\n",
    "* Patient Smoking Status as `smoker`\n",
    "* Patient U.S Geopraphical Region as `region`\n",
    "* Patient Yearly Medical Insurance Cost `charges`\n",
    "\n",
    "There are no missing or unknown data in the file. To store this information, seven empty lists will be created below to hold each individual column of data from **insurance.csv**."
   ]
  },
  {
   "cell_type": "code",
   "execution_count": 349,
   "id": "549c40bb-9b54-46e1-b087-a52acba21382",
   "metadata": {},
   "outputs": [],
   "source": [
    "# creating empty lists for the values located in csv file`s columns\n",
    "ages = []\n",
    "sexes = []\n",
    "bmis = []\n",
    "num_of_children = []\n",
    "smokers = []\n",
    "regions = []\n",
    "insurance_costs = []"
   ]
  },
  {
   "cell_type": "markdown",
   "id": "870c4ffb-2616-4808-ab74-8c44b049c38e",
   "metadata": {},
   "source": [
    "After checking `CSV file` and creating the empty lists , now `csv_into_lists` helper function below was created to make loading data into the lists as efficient as possible. The helper functions will loop for seven times and will store all data to the lists accordingly."
   ]
  },
  {
   "cell_type": "code",
   "execution_count": 4,
   "id": "69aa0a5a-b75e-4760-a7ca-f87cf91038db",
   "metadata": {
    "tags": []
   },
   "outputs": [],
   "source": [
    "# defining helper function\n",
    "def csv_into_lists (lst, csv_file, column_name):\n",
    "    # opening csv file as dictionary\n",
    "    with open(csv_file) as insurance_data:\n",
    "        reader = csv.DictReader(insurance_data)\n",
    "        # loop through the data in each row of csv\n",
    "        for row in reader:\n",
    "            # add the data from each row to a list\n",
    "            lst.append(row[column_name])\n",
    "        return lst"
   ]
  },
  {
   "cell_type": "code",
   "execution_count": null,
   "id": "7ab70766-12e2-4d7c-a99a-4e76101bbb07",
   "metadata": {},
   "outputs": [],
   "source": [
    "csv_into_lists(ages, 'insurance.csv', 'age')\n",
    "csv_into_lists(sexes, 'insurance.csv', 'sex')\n",
    "csv_into_lists(bmis, 'insurance.csv', 'bmi')\n",
    "csv_into_lists(num_of_children, 'insurance.csv', 'children')\n",
    "csv_into_lists(smokers, 'insurance.csv', 'smoker')\n",
    "csv_into_lists(regions, 'insurance.csv', 'region')\n",
    "csv_into_lists(insurance_costs, 'insurance.csv', 'charges')"
   ]
  },
  {
   "cell_type": "markdown",
   "id": "c85ea8b5-d65b-4af1-9176-3ffffb33536b",
   "metadata": {},
   "source": [
    "Now that all the data from `insurance.csv` neatly organized into labeled lists and analysis can be started. There are many aspects of the data that could be looked into. The following operations will be implemented:\n",
    "\n",
    "* find average age of the patients\n",
    "* return the number of males vs. females counted in the dataset\n",
    "* find geographical location of the patients\n",
    "* return the average yearly medical charges of the patients\n",
    "* creating a dictionary that contains all patient information\n",
    "\n",
    "To perform these inspections, a class called `PatientsInfo` has been built out below which contains five methods:\n",
    "* `analyze_ages()`\n",
    "* `analyze_sexes()`\n",
    "* `unique_regions()`\n",
    "* `average_charges()`\n",
    "* `create_dictionary()`"
   ]
  },
  {
   "cell_type": "code",
   "execution_count": 351,
   "id": "0d72084c-7d6b-4416-82cf-169412cbbe5f",
   "metadata": {},
   "outputs": [],
   "source": [
    "class PatientsInfo:\n",
    "    # init method that takes in each list as parameter\n",
    "    def __init__(self, ages, sexes, bmis, num_of_children, smokers, regions, insurance_costs):\n",
    "        self.ages = ages\n",
    "        self.sexes = sexes \n",
    "        self.bmis = bmis\n",
    "        self.num_of_children = num_of_children\n",
    "        self.smokers = smokers\n",
    "        self.regions = regions\n",
    "        self.insurance_costs = insurance_costs\n",
    "    \n",
    "    # method that calculates the average ages of the patients in insurance.csv\n",
    "    def analyze_ages(self):\n",
    "        # initialize total age at zero\n",
    "        total_age = 0\n",
    "        # iterate through all ages in the ages list\n",
    "        for i in self.ages:\n",
    "            #sum of the total age\n",
    "            total_age += int(i)\n",
    "        # return total age divided by the length of the patient list      \n",
    "        return '{} {} {} {}'.format('Patients', 'average age is',  str(round(total_age/len(self.ages), 2)), 'years old')\n",
    "    \n",
    "    \n",
    "    # method that calculates the number of males and females in insurance.csv\n",
    "    def analyze_sexes(self):\n",
    "        # initialize number of males and females to zero\n",
    "        male_counts = 0\n",
    "        female_counts = 0\n",
    "        # iterate through each sex in the sexes list\n",
    "        for i in self.sexes:\n",
    "            if i == 'male':\n",
    "                male_counts += 1\n",
    "            else:\n",
    "                female_counts += 1\n",
    "                \n",
    "        print('Male number is :', male_counts)\n",
    "        print('Female number is :', female_counts)\n",
    "        \n",
    "        \n",
    "    # method to find each unique region patients are from\n",
    "    def unique_regions(self):\n",
    "        # initialize empty list\n",
    "        unique_regions = []\n",
    "        # iterate through each region in regions list\n",
    "        for region in self.regions:\n",
    "            # if the region is not already in the unique regions list\n",
    "            # then add it to the unique regions list\n",
    "            if region not in unique_regions: \n",
    "                unique_regions.append(region)\n",
    "        # return unique regions list\n",
    "        return unique_regions\n",
    "    \n",
    "    \n",
    "    # method to find average yearly medical charges for patients in insurance.csv\n",
    "    def average_charges(self):\n",
    "        total_charges = 0\n",
    "        # iterate through charges in patients insurance_costs list\n",
    "        # add each charge to total_charge\n",
    "        for charges in self.insurance_costs:\n",
    "            total_charges += float(charges)\n",
    "        # return the average charges rounded to the hundredths place\n",
    "        return ('Average yearly medical insurance charges: ' \n",
    "                + str(round(total_charges/len(self.insurance_costs), 2)) + \" dollars.\")\n",
    "       \n",
    "        \n",
    "    # method to create dictionary with all patients information\n",
    "    def create_dictionary(self):\n",
    "        #defining a dictionary\n",
    "        self.patients_dictionary = {}\n",
    "        #creating items of dictionary using lists above\n",
    "        self.patients_dictionary['age'] = [int(ages) for ages in self.ages]\n",
    "        self.patients_dictionary['sex'] = self.sexes\n",
    "        self.patients_dictionary['bmis'] = self.bmis\n",
    "        self.patients_dictionary['number_of_children'] = self.num_of_children\n",
    "        self.patients_dictionary['smokers'] = self.smokers\n",
    "        self.patients_dictionary['regions'] = self.regions\n",
    "        self.patients_dictionary['insurance_costs'] = self.insurance_costs\n",
    "        \n",
    "        return self.patients_dictionary"
   ]
  },
  {
   "cell_type": "markdown",
   "id": "5720ff55-ffaf-4d53-9b4d-9872f9484f2d",
   "metadata": {},
   "source": [
    "<b> The next step is to create an instance of the class called `patient_info`. With this instance, each method can be used to see the results of the analysis."
   ]
  },
  {
   "cell_type": "code",
   "execution_count": 355,
   "id": "96ae9e85-f8ea-48d1-8ef1-13d8c67f0796",
   "metadata": {},
   "outputs": [],
   "source": [
    "patient_info = PatientsInfo(ages, sexes, bmis, num_of_children, smokers, regions, insurance_costs)"
   ]
  },
  {
   "cell_type": "markdown",
   "id": "a0d7ff65-1b5e-4516-893c-c362e5572ec5",
   "metadata": {},
   "source": [
    "<b> The average age of the patients in **insurance.csv** is about 39 years old below."
   ]
  },
  {
   "cell_type": "code",
   "execution_count": 356,
   "id": "8f00ce87-74e5-4051-8a1b-4ebb2bd2ee9b",
   "metadata": {},
   "outputs": [
    {
     "data": {
      "text/plain": [
       "'Patients average age is 39.21 years old'"
      ]
     },
     "execution_count": 356,
     "metadata": {},
     "output_type": "execute_result"
    }
   ],
   "source": [
    "patient_info.analyze_ages()"
   ]
  },
  {
   "cell_type": "markdown",
   "id": "3fd578e0-aed2-4cc6-924b-2c0eb938e5c2",
   "metadata": {},
   "source": [
    "<b> The next step of the analysis is to check the balance of males vs. females in a given file."
   ]
  },
  {
   "cell_type": "code",
   "execution_count": 329,
   "id": "a9baf704-8848-41e6-9b3a-127e49082185",
   "metadata": {},
   "outputs": [
    {
     "name": "stdout",
     "output_type": "stream",
     "text": [
      "Male number is : 676\n",
      "Female number is : 662\n"
     ]
    }
   ],
   "source": [
    "patient_info.analyze_sexes()"
   ]
  },
  {
   "cell_type": "markdown",
   "id": "2bd72102-404e-43a7-8865-94db71d3cd7f",
   "metadata": {},
   "source": [
    "<b> There are four unique geographical regions in this dataset"
   ]
  },
  {
   "cell_type": "code",
   "execution_count": 319,
   "id": "a4280520-1324-452f-9171-128aa21b8b5e",
   "metadata": {},
   "outputs": [
    {
     "data": {
      "text/plain": [
       "['southwest', 'southeast', 'northwest', 'northeast']"
      ]
     },
     "execution_count": 319,
     "metadata": {},
     "output_type": "execute_result"
    }
   ],
   "source": [
    "patient_info.unique_regions()"
   ]
  },
  {
   "cell_type": "markdown",
   "id": "63710147-dc50-4ba7-92e0-84c9926d8a4b",
   "metadata": {},
   "source": [
    "<b> The average yearly medical insurance charge per individual is 13270 US dollars as well"
   ]
  },
  {
   "cell_type": "code",
   "execution_count": 328,
   "id": "6375bc36-b766-413f-b3e4-1bd403968cca",
   "metadata": {},
   "outputs": [
    {
     "data": {
      "text/plain": [
       "'Average yearly medical insurance charges: 13270.42 dollars.'"
      ]
     },
     "execution_count": 328,
     "metadata": {},
     "output_type": "execute_result"
    }
   ],
   "source": [
    "patient_info.average_charges()"
   ]
  },
  {
   "cell_type": "markdown",
   "id": "04866134-c037-4823-86af-db858a63c827",
   "metadata": {},
   "source": [
    "<b> Now all patient data is organized in a dictionary properly. If a decision is made to continue making further analysis with `insurance.csv` file, it will be more convenient to use that data is shown below."
   ]
  },
  {
   "cell_type": "code",
   "execution_count": null,
   "id": "8650d0ce-fd92-436d-b531-97e76d63c015",
   "metadata": {},
   "outputs": [],
   "source": [
    "patient_info.create_dictionary()"
   ]
  }
 ],
 "metadata": {
  "kernelspec": {
   "display_name": "Python 3",
   "language": "python",
   "name": "python3"
  },
  "language_info": {
   "codemirror_mode": {
    "name": "ipython",
    "version": 3
   },
   "file_extension": ".py",
   "mimetype": "text/x-python",
   "name": "python",
   "nbconvert_exporter": "python",
   "pygments_lexer": "ipython3",
   "version": "3.9.1"
  }
 },
 "nbformat": 4,
 "nbformat_minor": 5
}
